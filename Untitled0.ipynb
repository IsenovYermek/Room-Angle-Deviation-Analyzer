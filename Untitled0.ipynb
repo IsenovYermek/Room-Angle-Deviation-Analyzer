{
  "nbformat": 4,
  "nbformat_minor": 0,
  "metadata": {
    "colab": {
      "provenance": [],
      "authorship_tag": "ABX9TyP5yxfCuEC82mBe8TJonOev",
      "include_colab_link": true
    },
    "kernelspec": {
      "name": "python3",
      "display_name": "Python 3"
    },
    "language_info": {
      "name": "python"
    }
  },
  "cells": [
    {
      "cell_type": "markdown",
      "metadata": {
        "id": "view-in-github",
        "colab_type": "text"
      },
      "source": [
        "<a href=\"https://colab.research.google.com/github/IsenovYermek/Room-Angle-Deviation-Analyzer/blob/main/Untitled0.ipynb\" target=\"_parent\"><img src=\"https://colab.research.google.com/assets/colab-badge.svg\" alt=\"Open In Colab\"/></a>"
      ]
    },
    {
      "cell_type": "code",
      "execution_count": null,
      "metadata": {
        "id": "dUtQvjlVbe8N"
      },
      "outputs": [],
      "source": []
    },
    {
      "cell_type": "code",
      "source": [
        "!pip install pandas matplotlib"
      ],
      "metadata": {
        "colab": {
          "base_uri": "https://localhost:8080/"
        },
        "id": "yw7d0sddcLkp",
        "outputId": "857c8b7c-1106-44c4-ca17-3aab09ca444a"
      },
      "execution_count": null,
      "outputs": [
        {
          "output_type": "stream",
          "name": "stdout",
          "text": [
            "Requirement already satisfied: pandas in /usr/local/lib/python3.10/dist-packages (1.5.3)\n",
            "Requirement already satisfied: matplotlib in /usr/local/lib/python3.10/dist-packages (3.7.1)\n",
            "Requirement already satisfied: python-dateutil>=2.8.1 in /usr/local/lib/python3.10/dist-packages (from pandas) (2.8.2)\n",
            "Requirement already satisfied: pytz>=2020.1 in /usr/local/lib/python3.10/dist-packages (from pandas) (2023.3.post1)\n",
            "Requirement already satisfied: numpy>=1.21.0 in /usr/local/lib/python3.10/dist-packages (from pandas) (1.23.5)\n",
            "Requirement already satisfied: contourpy>=1.0.1 in /usr/local/lib/python3.10/dist-packages (from matplotlib) (1.1.1)\n",
            "Requirement already satisfied: cycler>=0.10 in /usr/local/lib/python3.10/dist-packages (from matplotlib) (0.12.1)\n",
            "Requirement already satisfied: fonttools>=4.22.0 in /usr/local/lib/python3.10/dist-packages (from matplotlib) (4.43.1)\n",
            "Requirement already satisfied: kiwisolver>=1.0.1 in /usr/local/lib/python3.10/dist-packages (from matplotlib) (1.4.5)\n",
            "Requirement already satisfied: packaging>=20.0 in /usr/local/lib/python3.10/dist-packages (from matplotlib) (23.2)\n",
            "Requirement already satisfied: pillow>=6.2.0 in /usr/local/lib/python3.10/dist-packages (from matplotlib) (9.4.0)\n",
            "Requirement already satisfied: pyparsing>=2.3.1 in /usr/local/lib/python3.10/dist-packages (from matplotlib) (3.1.1)\n",
            "Requirement already satisfied: six>=1.5 in /usr/local/lib/python3.10/dist-packages (from python-dateutil>=2.8.1->pandas) (1.16.0)\n"
          ]
        }
      ]
    },
    {
      "cell_type": "code",
      "source": [
        "import pandas as pd\n",
        "\n",
        "url = \"https://ai-process-sandy.s3.eu-west-1.amazonaws.com/purge/deviation.json\"\n",
        "df = pd.read_json(url)\n",
        "print(df)"
      ],
      "metadata": {
        "colab": {
          "base_uri": "https://localhost:8080/"
        },
        "id": "UlPffvzScpQX",
        "outputId": "c9c7e1b7-1de4-4be7-e2ea-63ad99ee0033"
      },
      "execution_count": null,
      "outputs": [
        {
          "output_type": "stream",
          "name": "stdout",
          "text": [
            "                  name  gt_corners  rb_corners       mean        max  \\\n",
            "0         Schlafzimmer           4           4   3.956313   8.562939   \n",
            "1                Küche           4           4  23.019122  52.605437   \n",
            "2             Bathroom           4           4   1.013833   1.950322   \n",
            "3         Lounge/Diner           8           8   3.832620  18.236935   \n",
            "4           Essbereich           4           4   8.017758  15.642853   \n",
            "...                ...         ...         ...        ...        ...   \n",
            "1342    Master Bedroom           4           4   1.739907   4.703960   \n",
            "1343  Master Bedroom 2           4           4   0.530908   0.786997   \n",
            "1344          Zimmer I           4           4   0.880569   1.221873   \n",
            "1345  Hallway Bathroom           6           6  24.923452  64.266820   \n",
            "1346         Bedroom 4           4           4   0.387328   0.762659   \n",
            "\n",
            "           min  floor_mean  floor_max  floor_min  ceiling_mean  ceiling_max  \\\n",
            "0     0.274574    3.987864   8.562939   0.274574      3.924762     8.501885   \n",
            "1     0.724299    1.253103   1.897612   0.724299     44.785141    52.605437   \n",
            "2     0.301673    0.659138   1.318714   0.301673      1.368528     1.950322   \n",
            "3     0.173307    3.600083  15.041431   0.173307      4.065157    18.236935   \n",
            "4     0.762948    7.819446  15.399635   0.762948      8.216069    15.642853   \n",
            "...        ...         ...        ...        ...           ...          ...   \n",
            "1342  0.166677    0.487452   1.074033   0.166677      2.992362     4.703960   \n",
            "1343  0.101973    0.323746   0.614770   0.101973      0.738071     0.786997   \n",
            "1344  0.362600    0.823587   1.120810   0.362600      0.937550     1.221873   \n",
            "1345  0.064699   24.857904  64.123596   0.064699     24.988999    64.266820   \n",
            "1346  0.166426    0.349720   0.730373   0.205136      0.424936     0.762659   \n",
            "\n",
            "      ceiling_min  \n",
            "0        0.331494  \n",
            "1       36.880814  \n",
            "2        0.878106  \n",
            "3        0.253457  \n",
            "4        0.909029  \n",
            "...           ...  \n",
            "1342     1.216172  \n",
            "1343     0.670290  \n",
            "1344     0.490739  \n",
            "1345     0.074356  \n",
            "1346     0.166426  \n",
            "\n",
            "[1347 rows x 12 columns]\n"
          ]
        }
      ]
    },
    {
      "cell_type": "code",
      "source": [
        "class Plotter:\n",
        "    def __init__(self, plots_folder):\n",
        "        self.plots_folder = plots_folder\n",
        "        if not os.path.exists(self.plots_folder):\n",
        "            os.makedirs(self.plots_folder)\n",
        "\n",
        "    def draw_plot(self, room_name, gt_corners, rb_corners, mean, max_value, min_value, floor_mean, floor_max, floor_min, ceiling_mean, ceiling_max, ceiling_min):\n",
        "        sanitized_name = room_name.replace(\"/\", \"_\")\n",
        "\n",
        "        plt.figure()\n",
        "        x = ['ground truth corners', 'model corners', 'mean', 'max', 'min', 'floor mean', 'floor max', 'floor min', 'ceiling mean', 'ceiling max', 'ceiling min']\n",
        "        y = [gt_corners, rb_corners, mean, max_value, min_value, floor_mean, floor_max, floor_min, ceiling_mean, ceiling_max, ceiling_min]\n",
        "        plt.barh(x, y)\n",
        "        plt.title(f'Комната: {room_name}', fontdict={'fontsize': 12})\n",
        "        plt.xlabel('Значение (градусы)', fontdict={'fontsize': 10})\n",
        "        plt.ylabel('Измерение', fontdict={'fontsize': 10})\n",
        "        plt.xticks(fontsize=8)\n",
        "\n",
        "        room_folder = os.path.join(self.plots_folder, sanitized_name)\n",
        "        if not os.path.exists(room_folder):\n",
        "            os.makedirs(room_folder)\n",
        "            plt.savefig(os.path.join(room_folder, f'{sanitized_name}.png'), bbox_inches='tight')\n",
        "        plt.close()"
      ],
      "metadata": {
        "id": "GTcXlm2ZcvHW"
      },
      "execution_count": null,
      "outputs": []
    },
    {
      "cell_type": "markdown",
      "source": [
        "# Новый раздел"
      ],
      "metadata": {
        "id": "8HrFEq4CkEz6"
      }
    },
    {
      "cell_type": "markdown",
      "source": [],
      "metadata": {
        "id": "VQu_blxDhUnc"
      }
    },
    {
      "cell_type": "code",
      "source": [
        "# Создаем экземпляр класса Plotter\n",
        "plotter = Plotter('plots')\n",
        "\n",
        "# Создаем графики только для первых 5 комнат\n",
        "for _, room_data in df.head(5).iterrows():\n",
        "    room_name = room_data['name']\n",
        "    gt_corners = room_data['gt_corners']\n",
        "    rb_corners = room_data['rb_corners']\n",
        "    mean = room_data['mean']\n",
        "    max_value = room_data['max']\n",
        "    min_value = room_data['min']\n",
        "    floor_mean = room_data['floor_mean']\n",
        "    floor_max = room_data['floor_max']\n",
        "    floor_min = room_data['floor_min']\n",
        "    ceiling_mean = room_data['ceiling_mean']\n",
        "    ceiling_max = room_data['ceiling_max']\n",
        "    ceiling_min = room_data['ceiling_min']\n",
        "\n",
        "    plotter.draw_plot(room_name, gt_corners, rb_corners, mean, max_value, min_value, floor_mean, floor_max, floor_min, ceiling_mean, ceiling_max, ceiling_min)"
      ],
      "metadata": {
        "id": "yqTSkC4Pc2E4"
      },
      "execution_count": 62,
      "outputs": []
    }
  ]
}